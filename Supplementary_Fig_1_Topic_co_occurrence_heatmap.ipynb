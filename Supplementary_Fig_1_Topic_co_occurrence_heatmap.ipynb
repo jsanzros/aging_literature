{
  "nbformat": 4,
  "nbformat_minor": 0,
  "metadata": {
    "colab": {
      "provenance": []
    },
    "kernelspec": {
      "name": "python3",
      "display_name": "Python 3"
    },
    "language_info": {
      "name": "python"
    }
  },
  "cells": [
    {
      "cell_type": "code",
      "source": [
        "!pip install pandas numpy seaborn matplotlib gensim"
      ],
      "metadata": {
        "id": "lwz_g4OcGFCv"
      },
      "execution_count": null,
      "outputs": []
    },
    {
      "cell_type": "code",
      "source": [
        "import pandas as pd\n",
        "import numpy as np\n",
        "import pickle\n",
        "import seaborn as sns\n",
        "import matplotlib.pyplot as plt\n",
        "\n",
        "from gensim import models\n",
        "from gensim import corpora\n",
        "from gensim.models import LdaModel"
      ],
      "metadata": {
        "id": "yeAg4RCdGbjP"
      },
      "execution_count": null,
      "outputs": []
    },
    {
      "cell_type": "markdown",
      "source": [
        "Import preprocessed files"
      ],
      "metadata": {
        "id": "yCW5llhJGlUR"
      }
    },
    {
      "cell_type": "code",
      "source": [
        "with open('lda_model.pkl', 'rb') as f:\n",
        "    lda_model = pickle.load(f)\n",
        "\n",
        "with open('preprocessed_docs.pkl', 'rb') as f:\n",
        "    preprocessed_docs = pickle.load(f)\n",
        "\n",
        "with open('bow_corpus.pkl', 'rb') as f:\n",
        "    bow_corpus = pickle.load(f)\n",
        "\n",
        "with open('dictionary.dict', 'rb') as f:\n",
        "    dictionary = pickle.load(f)"
      ],
      "metadata": {
        "id": "cDW2bbH8GnED"
      },
      "execution_count": null,
      "outputs": []
    },
    {
      "cell_type": "markdown",
      "source": [
        "Generate a co-occurrence matrix and plot a heatmap"
      ],
      "metadata": {
        "id": "vQ0ZGmbwE1jd"
      }
    },
    {
      "cell_type": "code",
      "execution_count": null,
      "metadata": {
        "id": "Kud2XbIsEwuW"
      },
      "outputs": [],
      "source": [
        "# Initialize the co-occurrence matrix\n",
        "topic_distributions = [lda_model.get_document_topics(doc) for doc in bow_corpus]\n",
        "num_topics = lda_model.num_topics\n",
        "co_occurrence_matrix = np.zeros((num_topics, num_topics))\n",
        "\n",
        "for dist in topic_distributions:\n",
        "    topic_indices = [topic[0] for topic in dist]\n",
        "    for i in range(len(topic_indices)):\n",
        "        for j in range(i + 1, len(topic_indices)):\n",
        "            co_occurrence_matrix[topic_indices[i], topic_indices[j]] += 1\n",
        "            co_occurrence_matrix[topic_indices[j], topic_indices[i]] += 1\n",
        "\n",
        "# Normalize the co-occurrence matrix\n",
        "co_occurrence_matrix /= len(topic_distributions)"
      ]
    },
    {
      "cell_type": "code",
      "source": [
        "# Define the order of topics and their corresponding names\n",
        "topic_mapping = {\n",
        "    0: \"Cell signaling\", 1: \"Development\", 2: \"CNS diseases\", 3: \"Cardiovascular\",\n",
        "    4: \"Age-related decline\", 5: \"Risk factors\", 6: \"Cell biology\", 7: \"Gender\",\n",
        "    8: \"Muscle\", 9: \"Oxidative stress\", 10: \"Bone\", 11: \"Therapeutics\", 12: \"Metabolism\",\n",
        "    13: \"Neural tissue\", 14: \"Clinics\", 15: \"Healthcare\", 16: \"General terms\",\n",
        "    17: \"Brain structure\", 18: \"Psychosocial\", 19: \"Rodent studies\", 20: \"Cancer\",\n",
        "    21: \"Physical activity\", 22: \"Demography\", 23: \"Liver and kidney\", 24: \"Genetics\",\n",
        "    25: \"Analytics\", 26: \"Cognition\", 27: \"Physics\", 28: \"Skin\", 29: \"Clinical tests\"\n",
        "}\n",
        "\n",
        "# Define the order of topics as specified\n",
        "topic_order = [\n",
        "    \"General terms\", \"Healthcare\", \"Cell biology\", \"Genetics\", \"Analytics\",\n",
        "    \"Cell signaling\", \"Demography\", \"Clinical tests\", \"Age-related decline\",\n",
        "    \"Rodent studies\", \"Clinics\", \"Psychosocial\", \"Oxidative stress\", \"Physics\",\n",
        "    \"Therapeutics\", \"Risk factors\", \"Development\", \"Cognition\", \"CNS diseases\", \"Skin\",\n",
        "    \"Neural tissue\", \"Brain structure\", \"Cancer\", \"Metabolism\", \"Physical activity\",\n",
        "    \"Cardiovascular\", \"Gender\", \"Muscle\", \"Bone\", \"Liver and kidney\"\n",
        "]\n",
        "\n",
        "# Reorder the co-occurrence matrix according to topic_order\n",
        "ordered_matrix = np.zeros((len(topic_order), len(topic_order)))\n",
        "for i, topic_i in enumerate(topic_order):\n",
        "    for j, topic_j in enumerate(topic_order):\n",
        "        topic_i_idx = list(topic_mapping.keys())[list(topic_mapping.values()).index(topic_i)]\n",
        "        topic_j_idx = list(topic_mapping.keys())[list(topic_mapping.values()).index(topic_j)]\n",
        "        ordered_matrix[i, j] = co_occurrence_matrix[topic_i_idx, topic_j_idx]\n",
        "\n",
        "# Plotting the heatmap\n",
        "plt.figure(figsize=(18, 16))\n",
        "sns.heatmap(ordered_matrix, annot=False, fmt=\".2f\", cmap=\"RdBu_r\", xticklabels=topic_order, yticklabels=topic_order)\n",
        "plt.title('Topic Co-occurrence Heatmap')\n",
        "plt.xlabel('Topics')\n",
        "plt.ylabel('Topics')\n",
        "plt.xticks(rotation=90)\n",
        "plt.yticks(rotation=0)\n",
        "plt.tight_layout()\n",
        "plt.savefig('heatmap_cooccurrence.pdf')\n",
        "plt.show()"
      ],
      "metadata": {
        "id": "URq2GsBtE-Qp"
      },
      "execution_count": null,
      "outputs": []
    },
    {
      "cell_type": "markdown",
      "source": [
        "Plot top and bottom 5 co-occurrences between topics (normalized)"
      ],
      "metadata": {
        "id": "9JTRVTdIFMHw"
      }
    },
    {
      "cell_type": "code",
      "source": [
        "def top_bottom_co_occurrences(co_occurrence_matrix, num_topics, top_n=5):\n",
        "    top_bottom_co_occurrences = {}\n",
        "    normalized_matrix = co_occurrence_matrix / co_occurrence_matrix.max(axis=1, keepdims=True)\n",
        "\n",
        "    # Set the diagonal values to 0.5 after normalization\n",
        "    np.fill_diagonal(normalized_matrix, 0.5)\n",
        "\n",
        "    for topic_index in range(num_topics):\n",
        "        co_occurrences = normalized_matrix[topic_index, :].copy()\n",
        "        top_indices = np.argsort(co_occurrences)[::-1][:top_n]\n",
        "        bottom_indices = np.argsort(co_occurrences)[:top_n]\n",
        "        top_bottom_co_occurrences[topic_index] = (top_indices, bottom_indices)\n",
        "\n",
        "    return top_bottom_co_occurrences\n",
        "\n",
        "top_bottom_co_occurrences = top_bottom_co_occurrences(co_occurrence_matrix, num_topics)\n",
        "\n",
        "color_top = (1, 0, 0, 0.6)\n",
        "color_bottom = (0, 0, 1, 0.6)\n",
        "\n",
        "# Plot each topic individually with top 5 and bottom 5 co-occurrences\n",
        "for topic_index, (top_indices, bottom_indices) in top_bottom_co_occurrences.items():\n",
        "    topic_name = topic_mapping[topic_index]\n",
        "    fig, ax = plt.subplots(figsize=(10, 6))\n",
        "    co_topic_names = [topic_mapping[idx] for idx in bottom_indices] + [topic_mapping[idx] for idx in top_indices[::-1]]\n",
        "    bottom_values = co_occurrence_matrix[topic_index, bottom_indices] / co_occurrence_matrix[topic_index, :].max()\n",
        "    top_values = co_occurrence_matrix[topic_index, top_indices[::-1]] / co_occurrence_matrix[topic_index, :].max()\n",
        "    all_values = np.concatenate((bottom_values, top_values))\n",
        "    colors = [color_bottom] * len(bottom_indices) + [color_top] * len(top_indices)\n",
        "    ax.barh(range(len(all_values)), all_values, color=colors, edgecolor='none')\n",
        "    ax.set_yticks(range(len(all_values)))\n",
        "    ax.set_yticklabels(co_topic_names, fontsize=18)\n",
        "    ax.set_title(topic_name, fontsize=24, loc='center', x=0.4)  # Set the title to only the name of the topic\n",
        "    ax.xaxis.set_visible(False)\n",
        "    ax.tick_params(axis='y', which='both', length=0)\n",
        "    ax.spines['top'].set_visible(False)\n",
        "    ax.spines['right'].set_visible(False)\n",
        "    ax.spines['left'].set_visible(False)  # This removes the y-axis line\n",
        "    ax.spines['bottom'].set_visible(False)\n",
        "    plt.tight_layout()\n",
        "    plt.savefig(f\"top_bottom_cooccur_{topic_name}.pdf\")\n",
        "    plt.show()"
      ],
      "metadata": {
        "id": "_GqN3Zu5FC0j"
      },
      "execution_count": null,
      "outputs": []
    }
  ]
}