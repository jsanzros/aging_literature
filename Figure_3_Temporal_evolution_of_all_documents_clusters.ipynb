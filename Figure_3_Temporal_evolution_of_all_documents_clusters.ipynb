{
  "nbformat": 4,
  "nbformat_minor": 0,
  "metadata": {
    "colab": {
      "provenance": []
    },
    "kernelspec": {
      "name": "python3",
      "display_name": "Python 3"
    },
    "language_info": {
      "name": "python"
    }
  },
  "cells": [
    {
      "cell_type": "code",
      "execution_count": null,
      "metadata": {
        "id": "M8XMyC6znvSq"
      },
      "outputs": [],
      "source": [
        "!pip install umap umap-learn numpy pandas scikit-learn matplotlib scipy gensim"
      ]
    },
    {
      "cell_type": "code",
      "source": [
        "import umap\n",
        "import numpy as np\n",
        "import pandas as pd\n",
        "from sklearn.linear_model import LinearRegression\n",
        "import matplotlib.pyplot as plt\n",
        "import matplotlib.cm as cm\n",
        "import seaborn as sns\n",
        "from scipy.spatial.distance import cosine\n",
        "from scipy.stats import entropy\n",
        "from collections import defaultdict"
      ],
      "metadata": {
        "id": "9Id55AH7osA4"
      },
      "execution_count": null,
      "outputs": []
    },
    {
      "cell_type": "markdown",
      "source": [
        "Load preprocessed files"
      ],
      "metadata": {
        "id": "7dtiDEj5omxl"
      }
    },
    {
      "cell_type": "code",
      "source": [
        "with open('umap_result.pkl', 'rb') as f:\n",
        "    umap_result = pickle.load(f)\n",
        "\n",
        "with open('preprocessed_docs.pkl', 'rb') as f:\n",
        "    preprocessed_docs = pickle.load(f)\n",
        "\n",
        "with open('lda_model.pkl', 'rb') as f:\n",
        "    lda_model = pickle.load(f)\n",
        "\n",
        "with open('bow_corpus.pkl', 'rb') as f:\n",
        "    bow_corpus = pickle.load(f)\n",
        "\n",
        "with open('dictionary.dict', 'rb') as f:\n",
        "    dictionary = pickle.load(f)"
      ],
      "metadata": {
        "id": "9cUGXBNdoz3u"
      },
      "execution_count": null,
      "outputs": []
    },
    {
      "cell_type": "code",
      "source": [
        "# Load the preprocessed_docs.csv that contains the year of publication data in 'Year' column and convert to numeric\n",
        "file_name = 'preprocessed_docs.csv'\n",
        "df = pd.read_csv(file_name, low_memory=False)\n",
        "\n",
        "# Filter and preprocess the dataset\n",
        "df['Year'] = pd.to_numeric(df['Year'], errors='coerce')\n",
        "df.reset_index(drop=True, inplace=True)\n",
        "\n",
        "# Replace NaN years with 1 as a placeholder\n",
        "df['Year'] = df['Year'].fillna(1).astype(int)\n",
        "\n",
        "print(\"Length of preprocessed_docs:\", len(preprocessed_docs))\n",
        "print(\"Length of df:\", len(df))\n",
        "\n",
        "# Load the Leiden labels\n",
        "leiden_labels_path = 'leiden_labels_all.csv'\n",
        "leiden_labels = pd.read_csv(leiden_labels_path)"
      ],
      "metadata": {
        "id": "lYGpaB5QqJ3C"
      },
      "execution_count": null,
      "outputs": []
    },
    {
      "cell_type": "markdown",
      "source": [
        "Plot UMAP divided by decades"
      ],
      "metadata": {
        "id": "hdjFM25GwgSs"
      }
    },
    {
      "cell_type": "code",
      "source": [
        "# Create a new column for year ranges\n",
        "def classify_year_range(year):\n",
        "    if 1975 <= year <= 1984:\n",
        "        return '1975-1984'\n",
        "    elif 1985 <= year <= 1994:\n",
        "        return '1985-1994'\n",
        "    elif 1995 <= year <= 2004:\n",
        "        return '1995-2004'\n",
        "    elif 2005 <= year <= 2014:\n",
        "        return '2005-2014'\n",
        "    elif 2015 <= year <= 2023:\n",
        "        return '2015-2023'\n",
        "    else:\n",
        "        return 'Unknown'\n",
        "\n",
        "df['Year_Range'] = df['Year'].apply(classify_year_range)\n",
        "\n",
        "# Create a dataframe with umap embeddings and year range\n",
        "umap_df = pd.DataFrame(umap_result, columns=['UMAP1', 'UMAP2'])\n",
        "combined_df = pd.concat([umap_df, df[['Year_Range']]], axis=1)\n",
        "\n",
        "# Plot individual UMAPs for each year range\n",
        "year_ranges = ['1975-1984', '1985-1994', '1995-2004', '2005-2014', '2015-2023']\n",
        "plt.figure(figsize=(25, 5))\n",
        "for i, year_range in enumerate(year_ranges):\n",
        "    plt.subplot(1, 5, i + 1)\n",
        "    subset = combined_df[combined_df['Year_Range'] == year_range]\n",
        "    plt.scatter(subset['UMAP1'], subset['UMAP2'], c='navy', s=0.5, alpha=0.2)\n",
        "    plt.title(f'UMAP of All Documents ({year_range})')\n",
        "    plt.xticks([])\n",
        "    plt.yticks([])\n",
        "    plt.gca().spines['top'].set_visible(False)\n",
        "    plt.gca().spines['right'].set_visible(False)\n",
        "    plt.gca().spines['left'].set_visible(False)\n",
        "    plt.gca().spines['bottom'].set_visible(False)\n",
        "\n",
        "plt.tight_layout()\n",
        "plt.savefig('Year ranges UMAP all.png', dpi=600)\n",
        "plt.show()"
      ],
      "metadata": {
        "id": "mhQsoaA7wwwb"
      },
      "execution_count": null,
      "outputs": []
    },
    {
      "cell_type": "markdown",
      "source": [
        "Temporal evolution of cluster proportions"
      ],
      "metadata": {
        "id": "DKPB8IUMyO2-"
      }
    },
    {
      "cell_type": "code",
      "source": [
        "# Define cluster names\n",
        "cluster_names = {\n",
        "    0: 'Healthcare',\n",
        "    1: 'Animal studies',\n",
        "    2: 'Stem cells',\n",
        "    3: 'Geriatrics',\n",
        "    4: 'Molecular biology',\n",
        "    5: 'Statistics',\n",
        "    6: 'Social',\n",
        "    7: 'Oxidative stress',\n",
        "    8: 'Physics',\n",
        "    9: 'Dementia',\n",
        "    10: 'Diabetes and nutrition',\n",
        "    11: 'Genetics',\n",
        "    12: 'Mouse studies',\n",
        "    13: 'Brain structure',\n",
        "    14: 'Risk factors',\n",
        "    15: 'Cognition',\n",
        "    16: 'Gender',\n",
        "    17: 'Muscle',\n",
        "    18: 'Mitochondria and DNA damage',\n",
        "    19: 'Cell cycle and senescence',\n",
        "    20: 'Hormonal changes',\n",
        "    21: 'Skin',\n",
        "    22: 'Bone',\n",
        "    23: 'Neural tissue',\n",
        "    25: 'Exercise',\n",
        "    26: 'Cancer',\n",
        "    27: 'Vascular',\n",
        "    28: 'Clinical evaluation',\n",
        "    29: 'Telomeres',\n",
        "    30: 'Sleep'\n",
        "}\n",
        "\n",
        "# Add Leiden labels to the dataframe\n",
        "df['Cluster'] = leiden_labels['leiden']\n",
        "\n",
        "# Group by year and cluster to get the count of documents per cluster per year\n",
        "yearly_counts = df.groupby(['Year', 'Cluster']).size().unstack(fill_value=0)\n",
        "total_docs_per_year = yearly_counts.sum(axis=1)\n",
        "proportion_counts = yearly_counts.div(total_docs_per_year, axis=0)\n",
        "moving_avg = proportion_counts.rolling(window=5, min_periods=1).mean()\n",
        "\n",
        "# Filter data for the years 1975 to 2023\n",
        "moving_avg_filtered = moving_avg[(moving_avg.index >= 1975) & (moving_avg.index <= 2023)]\n",
        "\n",
        "# Plot the results in a single PDF with a 6x5 arrangement\n",
        "fig, axes = plt.subplots(5, 6, figsize=(40, 20))\n",
        "axes = axes.flatten()\n",
        "\n",
        "for idx, (cluster, name) in enumerate(cluster_names.items()):\n",
        "    if cluster in moving_avg_filtered.columns:\n",
        "        axes[idx].plot(moving_avg_filtered.index, moving_avg_filtered[cluster], linestyle='-', color='navy')\n",
        "        axes[idx].set_title(f'{name}', fontsize=14)\n",
        "        axes[idx].set_xlabel('Year', fontsize=12)\n",
        "        axes[idx].set_ylabel('Proportion of Documents', fontsize=12)\n",
        "        axes[idx].tick_params(axis='both', which='major', labelsize=10)\n",
        "        axes[idx].grid(False)\n",
        "    else:\n",
        "        axes[idx].axis('off')\n",
        "plt.tight_layout()\n",
        "plt.savefig('Cluster_Evolution_Panel.pdf')\n",
        "plt.show()"
      ],
      "metadata": {
        "id": "0npD4Qsmr-Eg"
      },
      "execution_count": null,
      "outputs": []
    },
    {
      "cell_type": "markdown",
      "source": [
        "Calculate mean publication year per cluster"
      ],
      "metadata": {
        "id": "vdzKM-G8xVFh"
      }
    },
    {
      "cell_type": "code",
      "source": [
        "# Filter documents from 1975 or newer and add leiden labels\n",
        "df_filtered = df[df['Year'] >= 1975].copy().reset_index(drop=True)\n",
        "df_filtered.loc[:, 'Cluster'] = leiden_labels['leiden'].reset_index(drop=True)\n",
        "\n",
        "# Calculate the mean year for each cluster\n",
        "mean_year_per_cluster = df_filtered.groupby('Cluster')['Year'].mean().reset_index()\n",
        "mean_year_per_cluster['Cluster_Name'] = mean_year_per_cluster['Cluster'].map(cluster_names)\n",
        "\n",
        "# Plot the mean year for each cluster\n",
        "plt.figure(figsize=(12, 8))\n",
        "mean_year_per_cluster_sorted = mean_year_per_cluster.sort_values('Year', ascending=False)\n",
        "sns.barplot(x='Year', y='Cluster_Name', data=mean_year_per_cluster_sorted, palette='RdBu')\n",
        "plt.xlabel('Mean Year of Publication')\n",
        "plt.ylabel('Cluster')\n",
        "plt.title('Mean Year of Publication per Cluster')\n",
        "plt.xlim(2008, 2012)\n",
        "plt.xticks(ticks=range(2008, 2013, 2))\n",
        "plt.savefig('Mean year of publication per cluster.pdf')\n",
        "plt.show()"
      ],
      "metadata": {
        "id": "o-6pCs-gxVQ9"
      },
      "execution_count": null,
      "outputs": []
    },
    {
      "cell_type": "markdown",
      "source": [
        "Cosine similarity trend"
      ],
      "metadata": {
        "id": "1O-xcdivzRsR"
      }
    },
    {
      "cell_type": "code",
      "source": [
        "# Get topic distribution for each document using LDA model\n",
        "topic_distributions = []\n",
        "for doc_bow in bow_corpus:\n",
        "    doc_topics = lda_model.get_document_topics(doc_bow, minimum_probability=0)\n",
        "    topic_vector = np.zeros(lda_model.num_topics)\n",
        "    for topic_id, prob in doc_topics:\n",
        "        topic_vector[topic_id] = prob\n",
        "    topic_distributions.append(topic_vector)\n",
        "\n",
        "df_topics = pd.DataFrame(topic_distributions)\n",
        "\n",
        "# Add cluster labels and years\n",
        "df['Leiden_Cluster'] = leiden_labels['leiden']\n",
        "df_topics['Year'] = df['Year']\n",
        "df_topics['Cluster'] = df['Leiden_Cluster']\n",
        "\n",
        "# Function to calculate cosine similarity\n",
        "def cosine_similarity(v1, v2):\n",
        "    return 1 - cosine(v1, v2)\n",
        "\n",
        "# Analyze topic distributions over time within each cluster\n",
        "results = defaultdict(list)\n",
        "years = sorted(df['Year'].dropna().unique())\n",
        "\n",
        "for cluster in df['Leiden_Cluster'].unique():\n",
        "    cluster_data = df_topics[df_topics['Cluster'] == cluster]\n",
        "    for i in range(len(years) - 1):\n",
        "        year_1 = years[i]\n",
        "        year_2 = years[i + 1]\n",
        "\n",
        "        # Get average topic distribution for both years\n",
        "        dist_year_1 = cluster_data[cluster_data['Year'] == year_1].mean(axis=0).values[:-2]\n",
        "        dist_year_2 = cluster_data[cluster_data['Year'] == year_2].mean(axis=0).values[:-2]\n",
        "\n",
        "        # Compute cosine similarity between distributions\n",
        "        cosine_sim = cosine_similarity(dist_year_1, dist_year_2)\n",
        "        results[cluster].append({\n",
        "            'Year_1': year_1,\n",
        "            'Year_2': year_2,\n",
        "            'Cosine_Similarity': cosine_sim,\n",
        "        })\n",
        "\n",
        "# Convert results to a dataframe\n",
        "df_results = pd.DataFrame([\n",
        "    {'Cluster': cluster, 'Year_1': res['Year_1'], 'Year_2': res['Year_2'],\n",
        "     'Cosine_Similarity': res['Cosine_Similarity']}\n",
        "    for cluster, result in results.items() for res in result\n",
        "])"
      ],
      "metadata": {
        "id": "HaETvtqTzl0p"
      },
      "execution_count": null,
      "outputs": []
    },
    {
      "cell_type": "code",
      "source": [
        "# Filter data from the year 1975 onwards\n",
        "df_results_filtered = df_results[df_results['Year_1'] >= 1975].copy()\n",
        "unique_clusters = sorted(df_results_filtered['Cluster'].unique())\n",
        "\n",
        "# Prepare a dictionary to store trends\n",
        "cluster_trends = {}\n",
        "\n",
        "# Iterate over each cluster to calculate the trend\n",
        "for cluster in unique_clusters:\n",
        "    cluster_data = df_results_filtered[df_results_filtered['Cluster'] == cluster].copy()\n",
        "    # Compute the 5-year moving average\n",
        "    cluster_data['Cosine_MA'] = cluster_data['Cosine_Similarity'].rolling(window=5).mean()\n",
        "    cluster_data = cluster_data.dropna(subset=['Cosine_MA'])\n",
        "\n",
        "    # Fit a linear regression model to find the slope\n",
        "    X = cluster_data['Year_1'].values.reshape(-1, 1)\n",
        "    y = cluster_data['Cosine_MA'].values\n",
        "    reg = LinearRegression().fit(X, y)\n",
        "    slope = reg.coef_[0]\n",
        "    cluster_trends[cluster_names[cluster]] = slope\n",
        "\n",
        "# Bar plot of cosine similarity trends\n",
        "sorted_trends = sorted(cluster_trends.items(), key=lambda x: x[1])\n",
        "cluster_names_sorted = [item[0] for item in sorted_trends]\n",
        "slopes_sorted = [item[1] for item in sorted_trends]\n",
        "plt.figure(figsize=(10, 8))\n",
        "plt.barh(cluster_names_sorted, slopes_sorted, color='navy')\n",
        "plt.xlabel('Trend (Slope of 5-Year Moving Average)')\n",
        "plt.ylabel('Cluster')\n",
        "plt.title('Trend of Cosine Similarity Across Clusters')\n",
        "plt.savefig('Trend of Cosine Similarity Across Clusters.pdf', bbox_inches='tight')\n",
        "plt.show()"
      ],
      "metadata": {
        "id": "BMyCDHvD0svn"
      },
      "execution_count": null,
      "outputs": []
    }
  ]
}
