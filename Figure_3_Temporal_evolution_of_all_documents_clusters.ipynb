{
  "cells": [
    {
      "cell_type": "code",
      "execution_count": null,
      "metadata": {
        "id": "M8XMyC6znvSq"
      },
      "outputs": [],
      "source": [
        "!pip install numpy==1.24.4 umap==0.1.1 umap-learn==0.5.7 pandas==2.2.2 scikit-learn==1.5.2 matplotlib==3.10.0 scipy==1.13.1 gensim==4.3.3"
      ]
    },
    {
      "cell_type": "code",
      "execution_count": null,
      "metadata": {
        "id": "9Id55AH7osA4"
      },
      "outputs": [],
      "source": [
        "import umap\n",
        "import numpy as np\n",
        "import pandas as pd\n",
        "from sklearn.linear_model import LinearRegression\n",
        "import matplotlib.pyplot as plt\n",
        "import matplotlib.cm as cm\n",
        "import seaborn as sns\n",
        "from scipy.spatial.distance import cosine\n",
        "from scipy.stats import entropy\n",
        "from collections import defaultdict"
      ]
    },
    {
      "cell_type": "markdown",
      "metadata": {
        "id": "7dtiDEj5omxl"
      },
      "source": [
        "Load preprocessed files"
      ]
    },
    {
      "cell_type": "code",
      "execution_count": null,
      "metadata": {
        "id": "9cUGXBNdoz3u"
      },
      "outputs": [],
      "source": [
        "with open('umap_result.pkl', 'rb') as f:\n",
        "    umap_result = pickle.load(f)\n",
        "\n",
        "with open('preprocessed_docs.pkl', 'rb') as f:\n",
        "    preprocessed_docs = pickle.load(f)\n",
        "\n",
        "with open('lda_model.pkl', 'rb') as f:\n",
        "    lda_model = pickle.load(f)\n",
        "\n",
        "with open('bow_corpus.pkl', 'rb') as f:\n",
        "    bow_corpus = pickle.load(f)\n",
        "\n",
        "with open('dictionary.dict', 'rb') as f:\n",
        "    dictionary = pickle.load(f)"
      ]
    },
    {
      "cell_type": "code",
      "execution_count": null,
      "metadata": {
        "id": "lYGpaB5QqJ3C"
      },
      "outputs": [],
      "source": [
        "# Load the preprocessed_docs.csv that contains the year of publication data in 'Year' column and convert to numeric\n",
        "file_name = 'preprocessed_docs.csv'\n",
        "df = pd.read_csv(file_name, low_memory=False)\n",
        "\n",
        "# Filter and preprocess the dataset\n",
        "df['Year'] = pd.to_numeric(df['Year'], errors='coerce')\n",
        "df.reset_index(drop=True, inplace=True)\n",
        "\n",
        "# Replace NaN years with 1 as a placeholder\n",
        "df['Year'] = df['Year'].fillna(1).astype(int)\n",
        "\n",
        "print(\"Length of preprocessed_docs:\", len(preprocessed_docs))\n",
        "print(\"Length of df:\", len(df))\n",
        "\n",
        "# Load the Leiden labels\n",
        "leiden_labels_path = 'leiden_labels_all.csv'\n",
        "leiden_labels = pd.read_csv(leiden_labels_path)"
      ]
    },
    {
      "cell_type": "markdown",
      "metadata": {
        "id": "hdjFM25GwgSs"
      },
      "source": [
        "Plot UMAP divided by decades"
      ]
    },
    {
      "cell_type": "code",
      "execution_count": null,
      "metadata": {
        "id": "mhQsoaA7wwwb"
      },
      "outputs": [],
      "source": [
        "# Create a new column for year ranges\n",
        "def classify_year_range(year):\n",
        "    if 1975 <= year <= 1984:\n",
        "        return '1975-1984'\n",
        "    elif 1985 <= year <= 1994:\n",
        "        return '1985-1994'\n",
        "    elif 1995 <= year <= 2004:\n",
        "        return '1995-2004'\n",
        "    elif 2005 <= year <= 2014:\n",
        "        return '2005-2014'\n",
        "    elif 2015 <= year <= 2023:\n",
        "        return '2015-2023'\n",
        "    else:\n",
        "        return 'Unknown'\n",
        "\n",
        "df['Year_Range'] = df['Year'].apply(classify_year_range)\n",
        "\n",
        "# Create a dataframe with umap embeddings and year range\n",
        "umap_df = pd.DataFrame(umap_result, columns=['UMAP1', 'UMAP2'])\n",
        "combined_df = pd.concat([umap_df, df[['Year_Range']]], axis=1)\n",
        "\n",
        "# Plot individual UMAPs for each year range\n",
        "year_ranges = ['1975-1984', '1985-1994', '1995-2004', '2005-2014', '2015-2023']\n",
        "plt.figure(figsize=(25, 5))\n",
        "for i, year_range in enumerate(year_ranges):\n",
        "    plt.subplot(1, 5, i + 1)\n",
        "    subset = combined_df[combined_df['Year_Range'] == year_range]\n",
        "    plt.scatter(subset['UMAP1'], subset['UMAP2'], c='navy', s=0.5, alpha=0.2)\n",
        "    plt.title(f'({year_range})')\n",
        "    plt.xticks([])\n",
        "    plt.yticks([])\n",
        "    plt.gca().spines['top'].set_visible(False)\n",
        "    plt.gca().spines['right'].set_visible(False)\n",
        "    plt.gca().spines['left'].set_visible(False)\n",
        "    plt.gca().spines['bottom'].set_visible(False)\n",
        "\n",
        "plt.tight_layout()\n",
        "plt.savefig('Year ranges UMAP all.png', dpi=600)\n",
        "plt.show()"
      ]
    },
    {
      "cell_type": "markdown",
      "metadata": {
        "id": "DKPB8IUMyO2-"
      },
      "source": [
        "Temporal evolution of cluster proportions"
      ]
    },
    {
      "cell_type": "code",
      "execution_count": null,
      "metadata": {
        "id": "0npD4Qsmr-Eg"
      },
      "outputs": [],
      "source": [
        "# Define cluster names\n",
        "cluster_names = {\n",
        "    0: 'Dementia', 1: 'Genetics', 2: 'Geriatrics', 3: 'Gender', 4: 'Cell signaling & stem cells',\n",
        "    5: 'Exercise', 6: 'Diabetes', 7: 'Hormones', 8: 'Nutrition', 9: 'Statistics',\n",
        "    10: 'Broad aging terminology', 11: 'Depression & psychology', 12: 'Immunology',\n",
        "    13: 'Brain structure', 14: 'Memory & learning', 15: 'Healthcare', 16: 'Oxidative stress',\n",
        "    17: 'Animal studies', 18: 'Muscle', 19: 'DNA damage', 20: 'Comparative studies',\n",
        "    21: \"Alzheimer's\", 22: 'Vascular', 23: 'Skin', 24: 'Telomeres', 25: 'Cancer',\n",
        "    26: 'Cell cycle & senescence', 27: 'Mitochondria', 28: 'Sleep', 29: 'Mouse studies',\n",
        "    30: 'Bone', 31: 'Physics'\n",
        "}\n",
        "\n",
        "# Add Leiden labels to the dataframe\n",
        "df['Cluster'] = leiden_labels['leiden']\n",
        "\n",
        "# Group by year and cluster to get the count of documents per cluster per year\n",
        "yearly_counts = df.groupby(['Year', 'Cluster']).size().unstack(fill_value=0)\n",
        "total_docs_per_year = yearly_counts.sum(axis=1)\n",
        "proportion_counts = yearly_counts.div(total_docs_per_year, axis=0)\n",
        "moving_avg = proportion_counts.rolling(window=5, min_periods=1).mean()\n",
        "\n",
        "# Filter data for the years 1975 to 2023\n",
        "moving_avg_filtered = moving_avg[(moving_avg.index >= 1975) & (moving_avg.index <= 2023)]\n",
        "\n",
        "# Calculate total documents per cluster\n",
        "total_per_cluster = yearly_counts.sum().sort_values(ascending=False)\n",
        "\n",
        "# Re-order cluster_names based on total document count\n",
        "sorted_cluster_names = {cluster: cluster_names[cluster] for cluster in total_per_cluster.index if cluster in cluster_names}\n",
        "\n",
        "# Plot the results in a single PDF\n",
        "fig, axes = plt.subplots(nrows=6, ncols=6, figsize=(40, 25))\n",
        "axes = axes.flatten()\n",
        "\n",
        "for idx, (cluster, name) in enumerate(sorted_cluster_names.items()):\n",
        "    if cluster in moving_avg_filtered.columns:\n",
        "        axes[idx].plot(moving_avg_filtered.index, moving_avg_filtered[cluster], linestyle='-', color='navy')\n",
        "        axes[idx].set_title(f'{name}', fontsize=24)\n",
        "        axes[idx].set_xlabel('Year', fontsize=24)\n",
        "        axes[idx].set_ylabel('Proportion of Documents', fontsize=20)\n",
        "        axes[idx].tick_params(axis='both', which='major', labelsize=20)\n",
        "        axes[idx].grid(False)\n",
        "    else:\n",
        "        axes[idx].axis('off')\n",
        "\n",
        "# Hide any unused subplots\n",
        "for ax in axes[len(sorted_cluster_names):]:\n",
        "    ax.set_visible(False)\n",
        "plt.tight_layout()\n",
        "plt.savefig('Cluster_Evolution_Panel.pdf')\n",
        "plt.show()"
      ]
    },
    {
      "cell_type": "markdown",
      "metadata": {
        "id": "vdzKM-G8xVFh"
      },
      "source": [
        "Calculate mean publication year per cluster"
      ]
    },
    {
      "cell_type": "code",
      "execution_count": null,
      "metadata": {
        "id": "o-6pCs-gxVQ9"
      },
      "outputs": [],
      "source": [
        "# Filter documents from 1975 or newer and add leiden labels\n",
        "df_filtered = df[df['Year'] >= 1975].copy().reset_index(drop=True)\n",
        "df_filtered.loc[:, 'Cluster'] = leiden_labels['leiden'].reset_index(drop=True)\n",
        "\n",
        "# Calculate the mean year for each cluster\n",
        "mean_year_per_cluster = df_filtered.groupby('Cluster')['Year'].mean().reset_index()\n",
        "mean_year_per_cluster['Cluster_Name'] = mean_year_per_cluster['Cluster'].map(cluster_names)\n",
        "\n",
        "# Plot the mean year for each cluster\n",
        "plt.figure(figsize=(12, 8))\n",
        "mean_year_per_cluster_sorted = mean_year_per_cluster.sort_values('Year', ascending=False)\n",
        "sns.barplot(x='Year', y='Cluster_Name', data=mean_year_per_cluster_sorted, palette='RdBu')\n",
        "plt.xlabel('Mean Year of Publication')\n",
        "plt.ylabel('Cluster')\n",
        "plt.title('Mean Year of Publication per Cluster')\n",
        "plt.xlim(2008, 2012)\n",
        "plt.xticks(ticks=range(2008, 2013, 2))\n",
        "plt.savefig('Mean year of publication per cluster.pdf')\n",
        "plt.show()"
      ]
    },
    {
      "cell_type": "markdown",
      "metadata": {
        "id": "1O-xcdivzRsR"
      },
      "source": [
        "Cosine similarity trend"
      ]
    },
    {
      "cell_type": "code",
      "execution_count": null,
      "metadata": {
        "id": "HaETvtqTzl0p"
      },
      "outputs": [],
      "source": [
        "# Get topic distribution for each document using LDA model\n",
        "topic_distributions = []\n",
        "for doc_bow in bow_corpus:\n",
        "    doc_topics = lda_model.get_document_topics(doc_bow, minimum_probability=0)\n",
        "    topic_vector = np.zeros(lda_model.num_topics)\n",
        "    for topic_id, prob in doc_topics:\n",
        "        topic_vector[topic_id] = prob\n",
        "    topic_distributions.append(topic_vector)\n",
        "\n",
        "df_topics = pd.DataFrame(topic_distributions)\n",
        "\n",
        "# Add cluster labels and years\n",
        "df['Leiden_Cluster'] = leiden_labels['leiden']\n",
        "df_topics['Year'] = df['Year']\n",
        "df_topics['Cluster'] = df['Leiden_Cluster']\n",
        "\n",
        "# Function to calculate cosine similarity\n",
        "def cosine_similarity(v1, v2):\n",
        "    return 1 - cosine(v1, v2)\n",
        "\n",
        "# Analyze topic distributions over time within each cluster\n",
        "results = defaultdict(list)\n",
        "years = sorted(df['Year'].dropna().unique())\n",
        "\n",
        "for cluster in df['Leiden_Cluster'].unique():\n",
        "    cluster_data = df_topics[df_topics['Cluster'] == cluster]\n",
        "    for i in range(len(years) - 1):\n",
        "        year_1 = years[i]\n",
        "        year_2 = years[i + 1]\n",
        "\n",
        "        # Get average topic distribution for both years\n",
        "        dist_year_1 = cluster_data[cluster_data['Year'] == year_1].mean(axis=0).values[:-2]\n",
        "        dist_year_2 = cluster_data[cluster_data['Year'] == year_2].mean(axis=0).values[:-2]\n",
        "\n",
        "        # Compute cosine similarity between distributions\n",
        "        cosine_sim = cosine_similarity(dist_year_1, dist_year_2)\n",
        "        results[cluster].append({\n",
        "            'Year_1': year_1,\n",
        "            'Year_2': year_2,\n",
        "            'Cosine_Similarity': cosine_sim,\n",
        "        })\n",
        "\n",
        "# Convert results to a dataframe\n",
        "df_results = pd.DataFrame([\n",
        "    {'Cluster': cluster, 'Year_1': res['Year_1'], 'Year_2': res['Year_2'],\n",
        "     'Cosine_Similarity': res['Cosine_Similarity']}\n",
        "    for cluster, result in results.items() for res in result\n",
        "])"
      ]
    },
    {
      "cell_type": "code",
      "execution_count": null,
      "metadata": {
        "id": "BMyCDHvD0svn"
      },
      "outputs": [],
      "source": [
        "# Filter data from the year 1975 onwards\n",
        "df_results_filtered = df_results[df_results['Year_1'] >= 1975].copy()\n",
        "unique_clusters = sorted(df_results_filtered['Cluster'].unique())\n",
        "\n",
        "# Prepare a dictionary to store trends\n",
        "cluster_trends = {}\n",
        "\n",
        "# Iterate over each cluster to calculate the trend\n",
        "for cluster in unique_clusters:\n",
        "    cluster_data = df_results_filtered[df_results_filtered['Cluster'] == cluster].copy()\n",
        "    # Compute the 5-year moving average\n",
        "    cluster_data['Cosine_MA'] = cluster_data['Cosine_Similarity'].rolling(window=5).mean()\n",
        "    cluster_data = cluster_data.dropna(subset=['Cosine_MA'])\n",
        "\n",
        "    # Fit a linear regression model to find the slope\n",
        "    X = cluster_data['Year_1'].values.reshape(-1, 1)\n",
        "    y = cluster_data['Cosine_MA'].values\n",
        "    reg = LinearRegression().fit(X, y)\n",
        "    slope = reg.coef_[0]\n",
        "    cluster_trends[cluster_names[cluster]] = slope\n",
        "\n",
        "# Bar plot of cosine similarity trends\n",
        "sorted_trends = sorted(cluster_trends.items(), key=lambda x: x[1])\n",
        "cluster_names_sorted = [item[0] for item in sorted_trends]\n",
        "slopes_sorted = [item[1] for item in sorted_trends]\n",
        "plt.figure(figsize=(10, 8))\n",
        "plt.barh(cluster_names_sorted, slopes_sorted, color='navy')\n",
        "plt.xlabel('Trend (Slope of 5-Year Moving Average)')\n",
        "plt.ylabel('Cluster')\n",
        "plt.title('Trend of Cosine Similarity Across Clusters')\n",
        "plt.savefig('Trend of Cosine Similarity Across Clusters.pdf', bbox_inches='tight')\n",
        "plt.show()"
      ]
    }
  ],
  "metadata": {
    "colab": {
      "provenance": []
    },
    "kernelspec": {
      "display_name": "Python 3",
      "name": "python3"
    },
    "language_info": {
      "name": "python"
    }
  },
  "nbformat": 4,
  "nbformat_minor": 0
}
