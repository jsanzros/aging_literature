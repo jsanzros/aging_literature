{
  "nbformat": 4,
  "nbformat_minor": 0,
  "metadata": {
    "colab": {
      "provenance": []
    },
    "kernelspec": {
      "name": "python3",
      "display_name": "Python 3"
    },
    "language_info": {
      "name": "python"
    }
  },
  "cells": [
    {
      "cell_type": "code",
      "execution_count": null,
      "metadata": {
        "id": "6ONCkVW8B9nX"
      },
      "outputs": [],
      "source": [
        "!pip install numpy pandas scikit-learn tqdm scipy matplotlib seaborn"
      ]
    },
    {
      "cell_type": "code",
      "source": [
        "import pickle\n",
        "import numpy as np\n",
        "import pandas as pd\n",
        "from sklearn.metrics.pairwise import cosine_similarity\n",
        "from sklearn.feature_extraction.text import TfidfVectorizer\n",
        "from sklearn.metrics.pairwise import cosine_similarity\n",
        "from tqdm import tqdm\n",
        "from scipy.optimize import minimize\n",
        "import matplotlib.pyplot as plt\n",
        "from matplotlib.ticker import MaxNLocator, FuncFormatter\n",
        "import seaborn as sns"
      ],
      "metadata": {
        "id": "jgskTHnaCLDn"
      },
      "execution_count": null,
      "outputs": []
    },
    {
      "cell_type": "markdown",
      "source": [
        "Load preprocessed files (all documents)"
      ],
      "metadata": {
        "id": "jLAcv6w0CTSa"
      }
    },
    {
      "cell_type": "code",
      "source": [
        "with open('umap_result.pkl', 'rb') as f:\n",
        "    umap_result = pickle.load(f)\n",
        "\n",
        "with open('preprocessed_docs.pkl', 'rb') as f:\n",
        "    preprocessed_docs = pickle.load(f)\n",
        "\n",
        "file_name = 'leiden_labels_all.csv'\n",
        "leiden_labels_all = pd.read_csv(file_name)"
      ],
      "metadata": {
        "id": "JzwA5peHCPZM"
      },
      "execution_count": null,
      "outputs": []
    },
    {
      "cell_type": "markdown",
      "source": [
        "Create a matrix of top cluster-specific words presence in other clusters based on TF-IDF scoring (all documents)"
      ],
      "metadata": {
        "id": "np-LWIVJC99w"
      }
    },
    {
      "cell_type": "code",
      "source": [
        "# Define cluster names\n",
        "cluster_names = {\n",
        "    0: 'Healthcare',\n",
        "    1: 'Animal studies',\n",
        "    2: 'Stem cells',\n",
        "    3: 'Geriatrics',\n",
        "    4: 'Molecular biology',\n",
        "    5: 'Statistics',\n",
        "    6: 'Social',\n",
        "    7: 'Oxidative stress',\n",
        "    8: 'Physics',\n",
        "    9: 'Dementia',\n",
        "    10: 'Diabetes and nutrition',\n",
        "    11: 'Genetics',\n",
        "    12: 'Mouse studies',\n",
        "    13: 'Brain structure',\n",
        "    14: 'Risk factors',\n",
        "    15: 'Cognition',\n",
        "    16: 'Gender',\n",
        "    17: 'Muscle',\n",
        "    18: 'Mitochondria and DNA damage',\n",
        "    19: 'Cell cycle and senescence',\n",
        "    20: 'Hormonal changes',\n",
        "    21: 'Skin',\n",
        "    22: 'Bone',\n",
        "    23: 'Neural tissue',\n",
        "    25: 'Exercise',\n",
        "    26: 'Cancer',\n",
        "    27: 'Vascular',\n",
        "    28: 'Clinical evaluation',\n",
        "    29: 'Telomeres',\n",
        "    30: 'Sleep'\n",
        "}\n",
        "\n",
        "filtered_texts = [' '.join(doc) for doc in preprocessed_docs]\n",
        "\n",
        "# Create TF-IDF vectorizer and transform the filtered texts\n",
        "tfidf_vectorizer = TfidfVectorizer(max_features=500)\n",
        "tfidf_matrix = tfidf_vectorizer.fit_transform(filtered_texts)\n",
        "\n",
        "# Map documents to clusters using Leiden labels\n",
        "umap_df = pd.DataFrame(umap_result, columns=['UMAP1', 'UMAP2'])\n",
        "umap_df['cluster'] = leiden_labels_all['leiden']\n",
        "\n",
        "# Calculate the average TF-IDF vector per cluster\n",
        "cluster_tfidf = []\n",
        "for cluster_id in sorted(umap_df['cluster'].unique()):\n",
        "    cluster_docs = tfidf_matrix[umap_df['cluster'] == cluster_id]\n",
        "    cluster_mean_tfidf = cluster_docs.mean(axis=0)\n",
        "    cluster_tfidf.append(cluster_mean_tfidf)\n",
        "\n",
        "cluster_tfidf_matrix = np.array(cluster_tfidf).squeeze()\n",
        "cluster_tfidf_df = pd.DataFrame(cluster_tfidf_matrix, index=[cluster_names[i] for i in sorted(cluster_names.keys())],\n",
        "                                columns=tfidf_vectorizer.get_feature_names_out())\n",
        "\n",
        "# Identify top 20 differential words for each cluster (words with the highest TF-IDF scores)\n",
        "top_words_per_cluster = {}\n",
        "num_top_words = 20\n",
        "for cluster in cluster_tfidf_df.index:\n",
        "    top_words = cluster_tfidf_df.loc[cluster].nlargest(num_top_words).index\n",
        "    top_words_per_cluster[cluster] = top_words\n",
        "\n",
        "# Calculate the TF-IDF presence of top words from each cluster in all other clusters\n",
        "underrepresentation_matrix = pd.DataFrame(0, index=cluster_tfidf_df.index, columns=cluster_tfidf_df.index)\n",
        "for cluster in top_words_per_cluster:\n",
        "    for other_cluster in cluster_tfidf_df.index:\n",
        "        if cluster != other_cluster:\n",
        "            mean_tfidf_score = cluster_tfidf_df.loc[other_cluster, top_words_per_cluster[cluster]].mean()\n",
        "            underrepresentation_matrix.loc[cluster, other_cluster] = mean_tfidf_score\n",
        "\n",
        "# Visualize the matrix\n",
        "plt.figure(figsize=(12, 10))\n",
        "sns.heatmap(\n",
        "    underrepresentation_matrix,\n",
        "    cmap=\"RdBu_r\",\n",
        "    annot=False,\n",
        "    fmt=\".2f\",\n",
        "    cbar_kws={'label': 'Mean TF-IDF Score of Top Words'},\n",
        ")\n",
        "\n",
        "plt.title(\"Top Cluster-Specific Words in Other Clusters\", fontsize=20)\n",
        "plt.xlabel(\"Clusters\", fontsize=16)\n",
        "plt.ylabel(\"Clusters (Top Words)\", fontsize=16)\n",
        "plt.xticks(rotation=45, ha=\"right\", fontsize=11)\n",
        "plt.yticks(rotation=0, fontsize=11)\n",
        "plt.tight_layout()\n",
        "plt.savefig('Top Cluster-Specific Words in Other Clusters (All).pdf', bbox_inches='tight')\n",
        "plt.show()"
      ],
      "metadata": {
        "id": "lgL8lVDGCxwL"
      },
      "execution_count": null,
      "outputs": []
    },
    {
      "cell_type": "markdown",
      "source": [
        "Plot top 3 most and least represented relationships (all documents)"
      ],
      "metadata": {
        "id": "M5d-4UF9DvzN"
      }
    },
    {
      "cell_type": "code",
      "source": [
        "def format_ticks(x, pos):\n",
        "    return f'{x:.2f}'\n",
        "\n",
        "fig, axes = plt.subplots(nrows=6, ncols=5, figsize=(18, 16))\n",
        "axes = axes.flatten()\n",
        "\n",
        "for i, cluster in enumerate(underrepresentation_matrix.index):\n",
        "    ax = axes[i]\n",
        "    other_clusters = underrepresentation_matrix.loc[cluster].drop(index=cluster)\n",
        "    most_represented = other_clusters.nlargest(3).sort_values(ascending=True)\n",
        "    least_represented = other_clusters.nsmallest(3).sort_values()\n",
        "    combined_representation = pd.concat([least_represented, most_represented])\n",
        "    colors = ['blue'] * len(least_represented) + ['red'] * len(most_represented)\n",
        "    ax.barh(combined_representation.index, combined_representation.values, color=colors, alpha=0.6)\n",
        "    ax.set_title(cluster)\n",
        "    ax.set_xlabel('Mean TF-IDF Score')\n",
        "    ax.spines['top'].set_visible(False)\n",
        "    ax.spines['right'].set_visible(False)\n",
        "    ax.spines['left'].set_visible(True)\n",
        "    ax.spines['bottom'].set_visible(True)\n",
        "    ax.xaxis.set_major_locator(MaxNLocator(nbins=3))\n",
        "    ax.xaxis.set_major_formatter(FuncFormatter(format_ticks))\n",
        "for j in range(i + 1, len(axes)):\n",
        "    fig.delaxes(axes[j])\n",
        "\n",
        "plt.tight_layout()\n",
        "plt.subplots_adjust(hspace=0.5)\n",
        "plt.suptitle('Most and Least Studied Relationships', fontsize=24, y=1.02)\n",
        "plt.savefig('Top 3 Most Represented and Underrepresented Relationships (All).pdf', bbox_inches='tight')\n",
        "plt.show()"
      ],
      "metadata": {
        "id": "_Q7g4zaQCz2e"
      },
      "execution_count": null,
      "outputs": []
    },
    {
      "cell_type": "markdown",
      "source": [
        "Load preprocessed files (BoA documents)"
      ],
      "metadata": {
        "id": "eieCJOoMEJ85"
      }
    },
    {
      "cell_type": "code",
      "source": [
        "with open('umap_result_biology.pkl', 'rb') as f:\n",
        "    umap_result_biology = pickle.load(f)\n",
        "\n",
        "with open('filtered_docs_biology.pkl', 'rb') as f:\n",
        "    filtered_docs_biology = pickle.load(f)\n",
        "\n",
        "file_name = 'leiden_labels_biology.csv'\n",
        "leiden_labels_biology = pd.read_csv(file_name)"
      ],
      "metadata": {
        "id": "slla5UETEMda"
      },
      "execution_count": null,
      "outputs": []
    },
    {
      "cell_type": "markdown",
      "source": [
        "Create a matrix of top cluster-specific words presence in other clusters based on TF-IDF scoring (BoA documents)"
      ],
      "metadata": {
        "id": "NCqoI6uVEpSC"
      }
    },
    {
      "cell_type": "code",
      "source": [
        "cluster_names = {\n",
        "    0: 'Cell signaling',\n",
        "    1: 'Oxidative stress',\n",
        "    2: 'Senescence',\n",
        "    3: 'Cell & molecular biology',\n",
        "    4: 'Immunology',\n",
        "    5: 'Mitochondria',\n",
        "    6: 'Alzheimer\\'s',\n",
        "    7: 'Genetics (clinical)',\n",
        "    8: 'Stem cells',\n",
        "    9: 'Cancer',\n",
        "    10: 'Protein biology',\n",
        "    11: 'Genetics (biology)',\n",
        "    12: 'Growth factors and cytokines',\n",
        "    13: 'Neuroscience',\n",
        "    14: 'Genomic stability',\n",
        "    15: 'Mesenchymal stem cells',\n",
        "    16: 'Muscle',\n",
        "    17: 'Telomeres',\n",
        "    18: 'RNA biology',\n",
        "    19: 'Epigenetics',\n",
        "    20: 'Autophagy',\n",
        "    21: 'Sirtuins, mTOR and caloric restriction',\n",
        "    22: 'Skin'\n",
        "}\n",
        "\n",
        "filtered_texts = [' '.join(doc) for doc in filtered_docs_biology]\n",
        "\n",
        "# Create TF-IDF vectorizer and transform the filtered texts\n",
        "tfidf_vectorizer = TfidfVectorizer(max_features=500)\n",
        "tfidf_matrix = tfidf_vectorizer.fit_transform(filtered_texts)\n",
        "\n",
        "# Map documents to clusters using Leiden labels\n",
        "umap_df = pd.DataFrame(umap_result_biology, columns=['UMAP1', 'UMAP2'])\n",
        "umap_df['cluster'] = leiden_labels_biology['leiden']\n",
        "\n",
        "# Calculate the average TF-IDF vector per cluster\n",
        "cluster_tfidf = []\n",
        "for cluster_id in sorted(umap_df['cluster'].unique()):\n",
        "    cluster_docs = tfidf_matrix[umap_df['cluster'] == cluster_id]\n",
        "    cluster_mean_tfidf = cluster_docs.mean(axis=0)\n",
        "    cluster_tfidf.append(cluster_mean_tfidf)\n",
        "cluster_tfidf_matrix = np.array(cluster_tfidf).squeeze()\n",
        "cluster_tfidf_df = pd.DataFrame(cluster_tfidf_matrix, index=[cluster_names[i] for i in sorted(cluster_names.keys())],\n",
        "                                columns=tfidf_vectorizer.get_feature_names_out())\n",
        "\n",
        "# Identify top 20 differential words for each cluster (words with the highest TF-IDF scores)\n",
        "top_words_per_cluster = {}\n",
        "num_top_words = 20\n",
        "for cluster in cluster_tfidf_df.index:\n",
        "    top_words = cluster_tfidf_df.loc[cluster].nlargest(num_top_words).index\n",
        "    top_words_per_cluster[cluster] = top_words\n",
        "\n",
        "# Calculate the TF-IDF presence of top words from each cluster in all other clusters\n",
        "underrepresentation_matrix = pd.DataFrame(0, index=cluster_tfidf_df.index, columns=cluster_tfidf_df.index)\n",
        "\n",
        "for cluster in top_words_per_cluster:\n",
        "    for other_cluster in cluster_tfidf_df.index:\n",
        "        if cluster != other_cluster:\n",
        "            mean_tfidf_score = cluster_tfidf_df.loc[other_cluster, top_words_per_cluster[cluster]].mean()\n",
        "            underrepresentation_matrix.loc[cluster, other_cluster] = mean_tfidf_score\n",
        "\n",
        "# Visualize the matrix\n",
        "plt.figure(figsize=(12, 10))\n",
        "sns.heatmap(\n",
        "    underrepresentation_matrix,\n",
        "    cmap=\"RdBu_r\",\n",
        "    annot=False,\n",
        "    fmt=\".2f\",\n",
        "    cbar_kws={'label': 'Mean TF-IDF Score of Top Words'},\n",
        ")\n",
        "\n",
        "plt.title(\"Top Cluster-Specific Words in Other Clusters\", fontsize=20)\n",
        "plt.xlabel(\"Clusters\", fontsize=16)\n",
        "plt.ylabel(\"Clusters (Top Words)\", fontsize=16)\n",
        "plt.xticks(rotation=45, ha=\"right\", fontsize=11)\n",
        "plt.yticks(rotation=0, fontsize=11)\n",
        "plt.tight_layout()\n",
        "plt.savefig('Top Cluster-Specific Words in Other Clusters (BoA).pdf', bbox_inches='tight')\n",
        "plt.show()"
      ],
      "metadata": {
        "id": "q5FmJDOzEh4L"
      },
      "execution_count": null,
      "outputs": []
    },
    {
      "cell_type": "markdown",
      "source": [
        "Plot top 3 most and least represented relationships (BoA documents)"
      ],
      "metadata": {
        "id": "w35_iB0eGEIo"
      }
    },
    {
      "cell_type": "code",
      "source": [
        "def format_ticks(x, pos):\n",
        "    return f'{x:.2f}'\n",
        "\n",
        "fig, axes = plt.subplots(nrows=6, ncols=4, figsize=(16, 16))\n",
        "axes = axes.flatten()\n",
        "\n",
        "for i, cluster in enumerate(underrepresentation_matrix.index):\n",
        "    ax = axes[i]\n",
        "\n",
        "    other_clusters = underrepresentation_matrix.loc[cluster].drop(index=cluster)\n",
        "    most_represented = other_clusters.nlargest(3).sort_values(ascending=True)\n",
        "    least_represented = other_clusters.nsmallest(3).sort_values()\n",
        "    combined_representation = pd.concat([least_represented, most_represented])\n",
        "    colors = ['blue'] * len(least_represented) + ['red'] * len(most_represented)\n",
        "    ax.barh(combined_representation.index, combined_representation.values, color=colors, alpha=0.6)\n",
        "\n",
        "    ax.set_title(cluster)\n",
        "    ax.set_xlabel('Mean TF-IDF Score')\n",
        "    ax.spines['top'].set_visible(False)\n",
        "    ax.spines['right'].set_visible(False)\n",
        "    ax.spines['left'].set_visible(True)\n",
        "    ax.spines['bottom'].set_visible(True)\n",
        "    ax.xaxis.set_major_locator(MaxNLocator(nbins=3))\n",
        "    ax.xaxis.set_major_formatter(FuncFormatter(format_ticks))\n",
        "\n",
        "for j in range(i + 1, len(axes)):\n",
        "    fig.delaxes(axes[j])\n",
        "\n",
        "plt.tight_layout()\n",
        "plt.subplots_adjust(hspace=0.5)\n",
        "plt.suptitle('Most and Least Studied Relationships', fontsize=24, y=1.02)\n",
        "plt.savefig('Top 3 Most Represented and Underrepresented Relationships (BoA).pdf', bbox_inches='tight')\n",
        "plt.show()"
      ],
      "metadata": {
        "id": "TZ6IlbkbGI2v"
      },
      "execution_count": null,
      "outputs": []
    }
  ]
}