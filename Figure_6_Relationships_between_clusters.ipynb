{
  "cells": [
    {
      "cell_type": "code",
      "execution_count": null,
      "metadata": {
        "id": "6ONCkVW8B9nX"
      },
      "outputs": [],
      "source": [
        "!pip install numpy pandas scikit-learn tqdm scipy matplotlib seaborn"
      ]
    },
    {
      "cell_type": "code",
      "execution_count": null,
      "metadata": {
        "id": "jgskTHnaCLDn"
      },
      "outputs": [],
      "source": [
        "import pickle\n",
        "import numpy as np\n",
        "import pandas as pd\n",
        "from sklearn.metrics.pairwise import cosine_similarity\n",
        "from sklearn.feature_extraction.text import TfidfVectorizer\n",
        "from sklearn.metrics.pairwise import cosine_similarity\n",
        "from tqdm import tqdm\n",
        "from scipy.optimize import minimize\n",
        "import matplotlib.pyplot as plt\n",
        "from matplotlib.ticker import MaxNLocator, FuncFormatter\n",
        "import seaborn as sns"
      ]
    },
    {
      "cell_type": "markdown",
      "metadata": {
        "id": "jLAcv6w0CTSa"
      },
      "source": [
        "Load preprocessed files (all documents)"
      ]
    },
    {
      "cell_type": "code",
      "execution_count": null,
      "metadata": {
        "id": "JzwA5peHCPZM"
      },
      "outputs": [],
      "source": [
        "with open('umap_result.pkl', 'rb') as f:\n",
        "    umap_result = pickle.load(f)\n",
        "\n",
        "with open('preprocessed_docs.pkl', 'rb') as f:\n",
        "    preprocessed_docs = pickle.load(f)\n",
        "\n",
        "file_name = 'leiden_labels_all.csv'\n",
        "leiden_labels_all = pd.read_csv(file_name)"
      ]
    },
    {
      "cell_type": "markdown",
      "metadata": {
        "id": "np-LWIVJC99w"
      },
      "source": [
        "Create a matrix of top cluster-specific words presence in other clusters based on TF-IDF scoring (all documents)"
      ]
    },
    {
      "cell_type": "code",
      "execution_count": null,
      "metadata": {
        "id": "lgL8lVDGCxwL"
      },
      "outputs": [],
      "source": [
        "# Define cluster names\n",
        "cluster_names = {\n",
        "    0: 'Dementia', 1: 'Genetics', 2: 'Geriatrics', 3: 'Gender', 4: 'Cell signaling & stem cells',\n",
        "    5: 'Exercise', 6: 'Diabetes', 7: 'Hormones', 8: 'Nutrition', 9: 'Statistics',\n",
        "    10: 'Broad aging terminology', 11: 'Depression & psychology', 12: 'Immunology',\n",
        "    13: 'Brain structure', 14: 'Memory & learning', 15: 'Healthcare', 16: 'Oxidative stress',\n",
        "    17: 'Animal studies', 18: 'Muscle', 19: 'DNA damage', 20: 'Comparative studies',\n",
        "    21: \"Alzheimer's\", 22: 'Vascular', 23: 'Skin', 24: 'Telomeres', 25: 'Cancer',\n",
        "    26: 'Cell cycle & senescence', 27: 'Mitochondria', 28: 'Sleep', 29: 'Mouse studies',\n",
        "    30: 'Bone', 31: 'Physics'\n",
        "}\n",
        "\n",
        "filtered_texts = [' '.join(doc) for doc in preprocessed_docs]\n",
        "\n",
        "# Create TF-IDF vectorizer and transform the filtered texts\n",
        "tfidf_vectorizer = TfidfVectorizer(max_features=500)\n",
        "tfidf_matrix = tfidf_vectorizer.fit_transform(filtered_texts)\n",
        "\n",
        "# Map documents to clusters using Leiden labels\n",
        "umap_df = pd.DataFrame(umap_result, columns=['UMAP1', 'UMAP2'])\n",
        "umap_df['cluster'] = leiden_labels_all['leiden']\n",
        "\n",
        "# Calculate the average TF-IDF vector per cluster\n",
        "cluster_tfidf = []\n",
        "for cluster_id in sorted(umap_df['cluster'].unique()):\n",
        "    cluster_docs = tfidf_matrix[umap_df['cluster'] == cluster_id]\n",
        "    cluster_mean_tfidf = cluster_docs.mean(axis=0)\n",
        "    cluster_tfidf.append(cluster_mean_tfidf)\n",
        "\n",
        "cluster_tfidf_matrix = np.array(cluster_tfidf).squeeze()\n",
        "cluster_tfidf_df = pd.DataFrame(cluster_tfidf_matrix, index=[cluster_names[i] for i in sorted(cluster_names.keys())],\n",
        "                                columns=tfidf_vectorizer.get_feature_names_out())\n",
        "\n",
        "# Identify top 20 differential words for each cluster (words with the highest TF-IDF scores)\n",
        "top_words_per_cluster = {}\n",
        "num_top_words = 20\n",
        "for cluster in cluster_tfidf_df.index:\n",
        "    top_words = cluster_tfidf_df.loc[cluster].nlargest(num_top_words).index\n",
        "    top_words_per_cluster[cluster] = top_words\n",
        "\n",
        "# Calculate the TF-IDF presence of top words from each cluster in all other clusters\n",
        "underrepresentation_matrix = pd.DataFrame(0, index=cluster_tfidf_df.index, columns=cluster_tfidf_df.index)\n",
        "for cluster in top_words_per_cluster:\n",
        "    for other_cluster in cluster_tfidf_df.index:\n",
        "        if cluster != other_cluster:\n",
        "            mean_tfidf_score = cluster_tfidf_df.loc[other_cluster, top_words_per_cluster[cluster]].mean()\n",
        "            underrepresentation_matrix.loc[cluster, other_cluster] = mean_tfidf_score\n",
        "\n",
        "# Visualize the matrix\n",
        "doc_counts = umap_df['cluster'].value_counts().sort_values(ascending=False)\n",
        "sorted_cluster_labels = [cluster_names[c] for c in doc_counts.index if c in cluster_names]\n",
        "underrepresentation_matrix_sorted = underrepresentation_matrix.loc[sorted_cluster_labels, sorted_cluster_labels]\n",
        "\n",
        "plt.figure(figsize=(12, 10))\n",
        "sns.heatmap(\n",
        "    underrepresentation_matrix_sorted,\n",
        "    cmap=\"RdBu_r\",\n",
        "    annot=False,\n",
        "    fmt=\".2f\",\n",
        "    cbar_kws={'label': 'Mean TF-IDF Score of Top Words'},\n",
        ")\n",
        "\n",
        "plt.title(\"Top Cluster-Specific Words in Other Clusters\", fontsize=20)\n",
        "plt.xlabel(\"Target Clusters\", fontsize=20)\n",
        "plt.ylabel(\"Top Words From Clusters\", fontsize=20)\n",
        "plt.xticks(rotation=45, ha=\"right\", fontsize=16)\n",
        "plt.yticks(rotation=0, fontsize=16)\n",
        "plt.tight_layout()\n",
        "plt.savefig('Top Cluster-Specific Words in Other Clusters (All).pdf', bbox_inches='tight')\n",
        "plt.show()"
      ]
    },
    {
      "cell_type": "markdown",
      "metadata": {
        "id": "M5d-4UF9DvzN"
      },
      "source": [
        "Plot top 3 most and least represented relationships (all documents)"
      ]
    },
    {
      "cell_type": "code",
      "execution_count": null,
      "metadata": {
        "id": "_Q7g4zaQCz2e"
      },
      "outputs": [],
      "source": [
        "def format_ticks(x, pos):\n",
        "    return f'{x:.2f}'\n",
        "\n",
        "fig, axes = plt.subplots(nrows=8, ncols=4, figsize=(18, 20))\n",
        "axes = axes.flatten()\n",
        "\n",
        "for i, cluster in enumerate(underrepresentation_matrix_sorted.index):\n",
        "    ax = axes[i]\n",
        "    other_clusters = underrepresentation_matrix_sorted.loc[cluster].drop(index=cluster)\n",
        "    most_represented = other_clusters.nlargest(3).sort_values(ascending=True)\n",
        "    least_represented = other_clusters.nsmallest(3).sort_values()\n",
        "    combined_representation = pd.concat([least_represented, most_represented])\n",
        "    colors = ['blue'] * len(least_represented) + ['red'] * len(most_represented)\n",
        "    ax.barh(combined_representation.index, combined_representation.values, color=colors, alpha=0.6)\n",
        "    ax.set_yticklabels(combined_representation.index, fontsize=12)\n",
        "    ax.set_title(cluster, fontsize=16)\n",
        "    ax.set_xlabel('Mean TF-IDF Score', fontsize=12)\n",
        "    ax.spines['top'].set_visible(False)\n",
        "    ax.spines['right'].set_visible(False)\n",
        "    ax.spines['left'].set_visible(True)\n",
        "    ax.spines['bottom'].set_visible(True)\n",
        "    ax.xaxis.set_major_locator(MaxNLocator(nbins=3))\n",
        "    ax.xaxis.set_major_formatter(FuncFormatter(format_ticks))\n",
        "for j in range(i + 1, len(axes)):\n",
        "    fig.delaxes(axes[j])\n",
        "\n",
        "plt.tight_layout()\n",
        "plt.subplots_adjust(hspace=1)\n",
        "plt.suptitle('Most and Least Studied Relationships', fontsize=24, y=1.02)\n",
        "plt.savefig('Top 3 Most Represented and Underrepresented Relationships (All).pdf', bbox_inches='tight')\n",
        "plt.show()"
      ]
    },
    {
      "cell_type": "markdown",
      "metadata": {
        "id": "eieCJOoMEJ85"
      },
      "source": [
        "Load preprocessed files (BoA documents)"
      ]
    },
    {
      "cell_type": "code",
      "execution_count": null,
      "metadata": {
        "id": "slla5UETEMda"
      },
      "outputs": [],
      "source": [
        "with open('umap_result_biology.pkl', 'rb') as f:\n",
        "    umap_result_biology = pickle.load(f)\n",
        "\n",
        "with open('filtered_docs_biology.pkl', 'rb') as f:\n",
        "    filtered_docs_biology = pickle.load(f)\n",
        "\n",
        "file_name = 'leiden_labels_biology.csv'\n",
        "leiden_labels_biology = pd.read_csv(file_name)"
      ]
    },
    {
      "cell_type": "markdown",
      "metadata": {
        "id": "NCqoI6uVEpSC"
      },
      "source": [
        "Create a matrix of top cluster-specific words presence in other clusters based on TF-IDF scoring (BoA documents)"
      ]
    },
    {
      "cell_type": "code",
      "execution_count": null,
      "metadata": {
        "id": "q5FmJDOzEh4L"
      },
      "outputs": [],
      "source": [
        "cluster_names = {\n",
        "    0: 'GWAS',\n",
        "    1: 'Gene regulation',\n",
        "    2: 'Cancer',\n",
        "    3: 'Epigenetics',\n",
        "    4: 'Insulin/IGF pathway',\n",
        "    5: 'Oxidative stress',\n",
        "    6: 'Stem cells',\n",
        "    7: 'Mesenchymal stem cells',\n",
        "    8: 'Mouse models',\n",
        "    9: 'Biochemistry',\n",
        "    10: 'Neuroscience',\n",
        "    11: 'Comparative studies',\n",
        "    12: 'Skin',\n",
        "    13: 'Immunology',\n",
        "    14: 'Clinical genetics',\n",
        "    15: 'Mitochondria',\n",
        "    16: 'Protein biology',\n",
        "    17: 'Senescence',\n",
        "    18: 'Genomic stability',\n",
        "    19: \"Alzheimer's\",\n",
        "    20: 'Muscle',\n",
        "    21: 'RNA biology',\n",
        "    22: 'Receptor biology',\n",
        "    23: 'Cytokines',\n",
        "    24: 'Telomeres',\n",
        "    25: 'Sirtuins & mTOR',\n",
        "    26: 'Autophagy'\n",
        "}\n",
        "\n",
        "filtered_texts = [' '.join(doc) for doc in filtered_docs_biology]\n",
        "\n",
        "# Create TF-IDF vectorizer and transform the filtered texts\n",
        "tfidf_vectorizer = TfidfVectorizer(max_features=500)\n",
        "tfidf_matrix = tfidf_vectorizer.fit_transform(filtered_texts)\n",
        "\n",
        "# Map documents to clusters using Leiden labels\n",
        "umap_df = pd.DataFrame(umap_result_biology, columns=['UMAP1', 'UMAP2'])\n",
        "umap_df['cluster'] = leiden_labels_biology['leiden']\n",
        "\n",
        "# Calculate the average TF-IDF vector per cluster\n",
        "cluster_tfidf = []\n",
        "for cluster_id in sorted(umap_df['cluster'].unique()):\n",
        "    cluster_docs = tfidf_matrix[umap_df['cluster'] == cluster_id]\n",
        "    cluster_mean_tfidf = cluster_docs.mean(axis=0)\n",
        "    cluster_tfidf.append(cluster_mean_tfidf)\n",
        "cluster_tfidf_matrix = np.array(cluster_tfidf).squeeze()\n",
        "cluster_tfidf_df = pd.DataFrame(cluster_tfidf_matrix, index=[cluster_names[i] for i in sorted(cluster_names.keys())],\n",
        "                                columns=tfidf_vectorizer.get_feature_names_out())\n",
        "\n",
        "# Identify top 20 differential words for each cluster (words with the highest TF-IDF scores)\n",
        "top_words_per_cluster = {}\n",
        "num_top_words = 20\n",
        "for cluster in cluster_tfidf_df.index:\n",
        "    top_words = cluster_tfidf_df.loc[cluster].nlargest(num_top_words).index\n",
        "    top_words_per_cluster[cluster] = top_words\n",
        "\n",
        "# Calculate the TF-IDF presence of top words from each cluster in all other clusters\n",
        "underrepresentation_matrix = pd.DataFrame(0, index=cluster_tfidf_df.index, columns=cluster_tfidf_df.index)\n",
        "\n",
        "for cluster in top_words_per_cluster:\n",
        "    for other_cluster in cluster_tfidf_df.index:\n",
        "        if cluster != other_cluster:\n",
        "            mean_tfidf_score = cluster_tfidf_df.loc[other_cluster, top_words_per_cluster[cluster]].mean()\n",
        "            underrepresentation_matrix.loc[cluster, other_cluster] = mean_tfidf_score\n",
        "\n",
        "# Visualize the matrix\n",
        "doc_counts = umap_df['cluster'].value_counts().sort_values(ascending=False)\n",
        "sorted_cluster_labels = [cluster_names[c] for c in doc_counts.index if c in cluster_names]\n",
        "underrepresentation_matrix_sorted = underrepresentation_matrix.loc[sorted_cluster_labels, sorted_cluster_labels]\n",
        "\n",
        "plt.figure(figsize=(16, 12))\n",
        "sns.heatmap(\n",
        "    underrepresentation_matrix_sorted,\n",
        "    cmap=\"RdBu_r\",\n",
        "    annot=False,\n",
        "    fmt=\".2f\",\n",
        "    cbar_kws={'label': 'Mean TF-IDF Score of Top Words'},\n",
        ")\n",
        "\n",
        "plt.title(\"Top Cluster-Specific Words in Other Clusters (BoA)\", fontsize=20)\n",
        "plt.xlabel(\"Target BoA Clusters\", fontsize=20)\n",
        "plt.ylabel(\"Top Words From BoA Clusters\", fontsize=20)\n",
        "plt.xticks(rotation=45, ha=\"right\", fontsize=16)\n",
        "plt.yticks(rotation=0, fontsize=16)\n",
        "plt.tight_layout()\n",
        "plt.savefig('Top Cluster-Specific Words in Other Clusters (BoA).pdf', bbox_inches='tight')\n",
        "plt.show()"
      ]
    },
    {
      "cell_type": "markdown",
      "metadata": {
        "id": "w35_iB0eGEIo"
      },
      "source": [
        "Plot top 3 most and least represented relationships (BoA documents)"
      ]
    },
    {
      "cell_type": "code",
      "execution_count": null,
      "metadata": {
        "id": "TZ6IlbkbGI2v"
      },
      "outputs": [],
      "source": [
        "def format_ticks(x, pos):\n",
        "    return f'{x:.2f}'\n",
        "\n",
        "fig, axes = plt.subplots(nrows=7, ncols=4, figsize=(16, 16))\n",
        "axes = axes.flatten()\n",
        "\n",
        "for i, cluster in enumerate(underrepresentation_matrix_sorted.index):\n",
        "    ax = axes[i]\n",
        "    other_clusters = underrepresentation_matrix_sorted.loc[cluster].drop(index=cluster)\n",
        "    most_represented = other_clusters.nlargest(3).sort_values(ascending=True)\n",
        "    least_represented = other_clusters.nsmallest(3).sort_values()\n",
        "    combined_representation = pd.concat([least_represented, most_represented])\n",
        "    colors = ['blue'] * len(least_represented) + ['red'] * len(most_represented)\n",
        "    ax.barh(combined_representation.index, combined_representation.values, color=colors, alpha=0.6)\n",
        "    ax.set_yticklabels(combined_representation.index, fontsize=12)\n",
        "    ax.set_title(cluster, fontsize=16)\n",
        "    ax.set_xlabel('Mean TF-IDF Score', fontsize=12)\n",
        "    ax.spines['top'].set_visible(False)\n",
        "    ax.spines['right'].set_visible(False)\n",
        "    ax.spines['left'].set_visible(True)\n",
        "    ax.spines['bottom'].set_visible(True)\n",
        "    ax.xaxis.set_major_locator(MaxNLocator(nbins=3))\n",
        "    ax.xaxis.set_major_formatter(FuncFormatter(format_ticks))\n",
        "\n",
        "for j in range(i + 1, len(axes)):\n",
        "    fig.delaxes(axes[j])\n",
        "\n",
        "plt.tight_layout()\n",
        "plt.subplots_adjust(hspace=1)\n",
        "plt.suptitle('Most and Least Studied Relationships', fontsize=24, y=1.02)\n",
        "plt.savefig('Top 3 Most Represented and Underrepresented Relationships (BoA).pdf', bbox_inches='tight')\n",
        "plt.show()"
      ]
    }
  ],
  "metadata": {
    "colab": {
      "provenance": []
    },
    "kernelspec": {
      "display_name": "Python 3",
      "name": "python3"
    },
    "language_info": {
      "name": "python"
    }
  },
  "nbformat": 4,
  "nbformat_minor": 0
}
