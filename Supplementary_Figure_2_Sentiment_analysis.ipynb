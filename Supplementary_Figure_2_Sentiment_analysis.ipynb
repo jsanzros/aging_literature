{
  "nbformat": 4,
  "nbformat_minor": 0,
  "metadata": {
    "colab": {
      "provenance": []
    },
    "kernelspec": {
      "name": "python3",
      "display_name": "Python 3"
    },
    "language_info": {
      "name": "python"
    }
  },
  "cells": [
    {
      "cell_type": "code",
      "execution_count": null,
      "metadata": {
        "id": "VhPbtdShEZ-D"
      },
      "outputs": [],
      "source": [
        "!pip install pandas numpy matplotlib nltk tqdm scikit-learn seaborn"
      ]
    },
    {
      "cell_type": "code",
      "source": [
        "import pickle\n",
        "import pandas as pd\n",
        "import numpy as np\n",
        "import matplotlib.pyplot as plt\n",
        "import nltk\n",
        "from nltk.sentiment.vader import SentimentIntensityAnalyzer\n",
        "from tqdm import tqdm\n",
        "nltk.download('vader_lexicon')\n",
        "from sklearn.feature_extraction.text import TfidfVectorizer\n",
        "from collections import Counter\n",
        "import seaborn as sns"
      ],
      "metadata": {
        "id": "-0acVEvYEpW8"
      },
      "execution_count": null,
      "outputs": []
    },
    {
      "cell_type": "markdown",
      "source": [
        "Load preprocessed files"
      ],
      "metadata": {
        "id": "j_RqhvI5FcCs"
      }
    },
    {
      "cell_type": "code",
      "source": [
        "with open('preprocessed_docs.pkl', 'rb') as f:\n",
        "    preprocessed_docs = pickle.load(f)\n",
        "\n",
        "with open('bow_corpus.pkl', 'rb') as f:\n",
        "    bow_corpus = pickle.load(f)\n",
        "\n",
        "with open('dictionary.dict', 'rb') as f:\n",
        "    dictionary = pickle.load(f)\n",
        "\n",
        "with open('lda_model.pkl', 'rb') as f:\n",
        "    lda_model = pickle.load(f)\n",
        "\n",
        "with open('tfidf_model.pkl', 'rb') as f:\n",
        "    tfidf_model = pickle.load(f)"
      ],
      "metadata": {
        "id": "efuwDzUDE1ky"
      },
      "execution_count": null,
      "outputs": []
    },
    {
      "cell_type": "code",
      "source": [
        "# Apply the TF-IDF model to the BOW corpus\n",
        "tfidf_corpus = tfidf_model[bow_corpus]\n",
        "\n",
        "# Load the dataset\n",
        "file_name = '/content/drive/My Drive/Unsupervised aging literature/LDA model docs/LDA model 4 with cleaned data/cleaned_dataset.csv'\n",
        "df = pd.read_csv(file_name, low_memory=False)\n",
        "\n",
        "# Filter and preprocess the dataset\n",
        "df['Year'] = pd.to_numeric(df['Year'], errors='coerce')\n",
        "df = df[(df['Year'] >= 1975) & (df['Year'] <= 2023)]\n",
        "df.reset_index(drop=True, inplace=True)\n",
        "\n",
        "# Align df with preprocessed_docs\n",
        "df = df.iloc[:len(preprocessed_docs)]\n",
        "\n",
        "# Print lengths to verify\n",
        "print(\"Length of preprocessed_docs:\", len(preprocessed_docs))\n",
        "print(\"Length of bow_corpus:\", len(bow_corpus))\n",
        "print(\"Length of df:\", len(df))"
      ],
      "metadata": {
        "id": "mgrKxqOqE__s"
      },
      "execution_count": null,
      "outputs": []
    },
    {
      "cell_type": "markdown",
      "source": [
        "Sentiment analysis of each document and storing of keyword sentiment scores"
      ],
      "metadata": {
        "id": "2r1Wl5ptF8r4"
      }
    },
    {
      "cell_type": "code",
      "source": [
        "# Initialize the sentiment analyzer\n",
        "sid = SentimentIntensityAnalyzer()\n",
        "\n",
        "# Perform sentiment analysis on each document\n",
        "df['Sentiment'] = df['Abstract'].apply(lambda text: sid.polarity_scores(text)['compound'])\n",
        "\n",
        "# Extract keywords using TF-IDF\n",
        "tfidf_vectorizer = TfidfVectorizer(stop_words='english', max_features=500)\n",
        "tfidf_matrix = tfidf_vectorizer.fit_transform(df['Abstract'])\n",
        "feature_names = tfidf_vectorizer.get_feature_names_out()\n",
        "\n",
        "# Create a dictionary to store keyword sentiment scores\n",
        "keyword_sentiment = {word: [] for word in feature_names}\n",
        "\n",
        "# Assign sentiment scores to keywords\n",
        "for i, abstract in enumerate(df['Abstract']):\n",
        "    words = abstract.split()\n",
        "    for word in words:\n",
        "        if word in keyword_sentiment:\n",
        "            keyword_sentiment[word].append(df.iloc[i]['Sentiment'])"
      ],
      "metadata": {
        "id": "3P-5G8lOFo5w"
      },
      "execution_count": null,
      "outputs": []
    },
    {
      "cell_type": "markdown",
      "source": [
        "Generate a df with the average sentiment score for each keyword, abstract and year of publication"
      ],
      "metadata": {
        "id": "uItSFGKZGw4v"
      }
    },
    {
      "cell_type": "code",
      "source": [
        "# Calculate the average sentiment score for each keyword and convert to a df\n",
        "average_keyword_sentiment = {word: (sum(scores) / len(scores)) if scores else 0 for word, scores in keyword_sentiment.items()}\n",
        "keyword_sentiment_df = pd.DataFrame(list(average_keyword_sentiment.items()), columns=['Keyword', 'Average Sentiment'])\n",
        "years = df['Year'].tolist()\n",
        "data = {'Year': years, 'Abstract': df['Abstract'], 'Sentiment': df['Sentiment']}\n",
        "df_sentiment = pd.DataFrame(data)\n",
        "\n",
        "# Group by year and calculate average sentiment for each keyword per year\n",
        "keyword_yearly_sentiment = {word: [] for word in feature_names}\n",
        "for word in feature_names:\n",
        "    for year in df_sentiment['Year'].unique():\n",
        "        yearly_abstracts = df_sentiment[df_sentiment['Year'] == year]['Abstract']\n",
        "        yearly_sentiments = [sid.polarity_scores(abstract)['compound'] for abstract in yearly_abstracts if word in abstract.split()]\n",
        "        if yearly_sentiments:\n",
        "            average_yearly_sentiment = sum(yearly_sentiments) / len(yearly_sentiments)\n",
        "        else:\n",
        "            average_yearly_sentiment = 0\n",
        "        keyword_yearly_sentiment[word].append((year, average_yearly_sentiment))\n",
        "\n",
        "keyword_yearly_sentiment_df = pd.DataFrame.from_dict(keyword_yearly_sentiment, orient='index', columns=sorted(df_sentiment['Year'].unique()))"
      ],
      "metadata": {
        "id": "zDuPswn5GeP_"
      },
      "execution_count": null,
      "outputs": []
    },
    {
      "cell_type": "markdown",
      "source": [
        "Plot 10 keywords with highest and lowest sentiment score"
      ],
      "metadata": {
        "id": "1TyacK-bHEOA"
      }
    },
    {
      "cell_type": "code",
      "source": [
        "average_keyword_sentiment = numeric_keyword_yearly_sentiment_df.mean(axis=1)\n",
        "top_positive_keywords = average_keyword_sentiment.nlargest(10)\n",
        "top_negative_keywords = average_keyword_sentiment.nsmallest(10)\n",
        "\n",
        "# Capitalize the first letter of each keyword\n",
        "top_positive_keywords.index = top_positive_keywords.index.str.capitalize()\n",
        "top_negative_keywords.index = top_negative_keywords.index.str.capitalize()\n",
        "\n",
        "# Plot top positive keywords\n",
        "plt.figure(figsize=(14, 7))\n",
        "plt.subplot(1, 2, 1)\n",
        "sns.barplot(x=top_positive_keywords.values, y=top_positive_keywords.index, palette=sns.color_palette(\"Reds\", 10)[::-1])\n",
        "plt.xlabel('Average Sentiment Score')\n",
        "plt.title('Top 10 Positive Keywords')\n",
        "\n",
        "# Plot top negative keywords\n",
        "plt.subplot(1, 2, 2)\n",
        "sns.barplot(x=top_negative_keywords.values, y=top_negative_keywords.index, palette=sns.color_palette(\"Blues\", 10)[::-1])\n",
        "plt.xlabel('Average Sentiment Score')\n",
        "plt.title('Top 10 Negative Keywords')\n",
        "\n",
        "plt.tight_layout()\n",
        "plt.savefig(f'Top 10 positive and negative keywords.pdf')\n",
        "plt.show()"
      ],
      "metadata": {
        "id": "KV5nrViZGvOK"
      },
      "execution_count": null,
      "outputs": []
    },
    {
      "cell_type": "markdown",
      "source": [
        "Plot the evolution of sentiment score for all documents (10-year moving avg)"
      ],
      "metadata": {
        "id": "Nedy3nHcHZdE"
      }
    },
    {
      "cell_type": "code",
      "source": [
        "average_sentiment_per_year = df_sentiment.groupby('Year')['Sentiment'].mean()\n",
        "moving_avg_sentiment = average_sentiment_per_year.rolling(window=10, min_periods=1).mean()\n",
        "plt.figure(figsize=(10, 6))\n",
        "plt.plot(moving_avg_sentiment.index, moving_avg_sentiment, linestyle='-', color='darkgreen', label='10-Year Moving Average')\n",
        "plt.xlabel('Year')\n",
        "plt.ylabel('Average Sentiment Score')\n",
        "plt.title('10-Year Moving Average of Sentiment Score Across All Documents')\n",
        "plt.legend()\n",
        "plt.grid(False)\n",
        "plt.savefig(f'/content/drive/MyDrive/Unsupervised aging literature/LDA model docs/LDA model 4 with cleaned data/Figuras paper/Sentiment topics/10-year moving average of sentiment score across all documents.pdf', dpi=600)\n",
        "plt.show()"
      ],
      "metadata": {
        "id": "H1T-yV84HX5f"
      },
      "execution_count": null,
      "outputs": []
    },
    {
      "cell_type": "markdown",
      "source": [
        "Plot the evolution of proportions of documents containing a specific word (10-year moving avg)"
      ],
      "metadata": {
        "id": "EwJPMmZzHn2z"
      }
    },
    {
      "cell_type": "code",
      "source": [
        "df['word_presence'] = df['Abstract'].str.contains('cancer', case=False, na=False).astype(int)\n",
        "yearly_document_count = df.groupby('Year').size()\n",
        "yearly_word_count = df.groupby('Year')['word_presence'].sum()\n",
        "yearly_word_proportion = yearly_word_count / yearly_document_count\n",
        "word_moving_avg = yearly_cancer_proportion.rolling(window=10, min_periods=1).mean()\n",
        "\n",
        "plt.figure(figsize=(10, 6))\n",
        "plt.plot(word_moving_avg.index, word_moving_avg, linestyle='-', color='b', label='10-Year Moving Average')\n",
        "plt.xlabel('Year')\n",
        "plt.ylabel('Proportion of Documents')\n",
        "plt.title('10-Year Moving Average of the Proportion of Documents containing \"Cancer\"')\n",
        "plt.legend()\n",
        "plt.grid(False)\n",
        "plt.savefig(f'10-year moving average of proportion of documents containing cancer.pdf', dpi=600)\n",
        "plt.show()"
      ],
      "metadata": {
        "id": "sFb8M3dQHnZp"
      },
      "execution_count": null,
      "outputs": []
    },
    {
      "cell_type": "markdown",
      "source": [
        "Average sentiment score per LDA topic"
      ],
      "metadata": {
        "id": "mE5Kr4i5IdTO"
      }
    },
    {
      "cell_type": "code",
      "source": [
        "# Define topic names\n",
        "topic_names = [\n",
        "    \"Cell signaling\", \"Development\", \"CNS diseases\", \"Cardiovascular\", \"Age-related decline\", \"Risk factors\",\n",
        "    \"Cell biology\", \"Gender\", \"Muscle\", \"Oxidative stress\", \"Bone\", \"Therapeutics\", \"Metabolism\", \"Neural tissue\",\n",
        "    \"Clinics\", \"Healthcare\", \"General terms\", \"Brain structure\", \"Psychosocial\", \"Rodent studies\", \"Cancer\",\n",
        "    \"Physical activity\", \"Demography\", \"Liver and kidney\", \"Genetics\", \"Analytics\", \"Cognition\", \"Physics\", \"Skin\",\n",
        "    \"Clinical tests\"\n",
        "]\n",
        "\n",
        "# Map keywords to their dominant topics\n",
        "keyword_to_topic = {}\n",
        "for word in feature_names:\n",
        "    if word in dictionary.token2id:\n",
        "        word_id = dictionary.token2id[word]\n",
        "        topic_distribution = lda_model.get_term_topics(word_id)\n",
        "        if topic_distribution:\n",
        "            dominant_topic = max(topic_distribution, key=lambda x: x[1])[0]\n",
        "            keyword_to_topic[word] = dominant_topic\n",
        "\n",
        "# Calculate average sentiment per topic based on keyword sentiment\n",
        "topic_sentiment = {topic: [] for topic in range(len(topic_names))}\n",
        "for word, sentiment in average_keyword_sentiment.items():\n",
        "    if word in keyword_to_topic:\n",
        "        topic = keyword_to_topic[word]\n",
        "        topic_sentiment[topic].append(sentiment)\n",
        "average_sentiment_per_topic = {topic: (sum(scores) / len(scores)) if scores else 0 for topic, scores in topic_sentiment.items()}\n",
        "average_sentiment_per_topic_df = pd.DataFrame(list(average_sentiment_per_topic.items()), columns=['Topic', 'Average Sentiment'])\n",
        "average_sentiment_per_topic_df['Topic_Name'] = average_sentiment_per_topic_df['Topic'].apply(lambda x: topic_names[x])\n",
        "average_sentiment_per_topic_df = average_sentiment_per_topic_df.sort_values(by='Average Sentiment', ascending=False)\n",
        "\n",
        "colors = []\n",
        "for sentiment in average_sentiment_per_topic_df['Average Sentiment']:\n",
        "    if sentiment > 0:\n",
        "        colors.append(sns.color_palette(\"Reds\", as_cmap=True)(0.4 + sentiment / 2))\n",
        "    else:\n",
        "        colors.append(sns.color_palette(\"Blues\", as_cmap=True)(0.4 - sentiment / 2))\n",
        "plt.figure(figsize=(12, 8))\n",
        "sns.barplot(x='Average Sentiment', y='Topic_Name', data=average_sentiment_per_topic_df, palette=colors)\n",
        "plt.xlabel('Average Sentiment Score')\n",
        "plt.title('Average Sentiment per Topic')\n",
        "plt.tight_layout()\n",
        "plt.savefig(f'Average_sentiment_per_topic.pdf')\n",
        "plt.show()"
      ],
      "metadata": {
        "id": "PNEyTq5MIbur"
      },
      "execution_count": null,
      "outputs": []
    }
  ]
}
